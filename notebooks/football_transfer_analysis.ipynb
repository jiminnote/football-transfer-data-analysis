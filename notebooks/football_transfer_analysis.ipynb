{
 "cells": [
  {
   "cell_type": "markdown",
   "id": "0",
   "metadata": {},
   "source": [
    "# 1. Import Data"
   ]
  },
  {
   "cell_type": "code",
   "execution_count": null,
   "id": "1",
   "metadata": {},
   "outputs": [],
   "source": [
    "import pandas as pd\n",
    "\n",
    "players_path = '../data/players.csv'\n",
    "players_valuations_path = '../data/player_valuations.csv'\n",
    "\n",
    "players = pd.read_csv(players_path)\n",
    "players_valuations = pd.read_csv(players_valuations_path)"
   ]
  },
  {
   "cell_type": "markdown",
   "id": "2",
   "metadata": {},
   "source": [
    "# 2. Dataset Information"
   ]
  },
  {
   "cell_type": "markdown",
   "id": "3",
   "metadata": {},
   "source": [
    "## 2-1. players"
   ]
  },
  {
   "cell_type": "code",
   "execution_count": null,
   "id": "4",
   "metadata": {},
   "outputs": [],
   "source": [
    "print(players.info())\n",
    "display(players.head())\n",
    "print(players.columns)"
   ]
  },
  {
   "cell_type": "markdown",
   "id": "5",
   "metadata": {},
   "source": [
    "## 2-3. players_valuations"
   ]
  },
  {
   "cell_type": "code",
   "execution_count": null,
   "id": "6",
   "metadata": {},
   "outputs": [],
   "source": [
    "print(players_valuations.info())\n",
    "display(players_valuations.head())\n",
    "print(players_valuations.columns)"
   ]
  },
  {
   "cell_type": "markdown",
   "id": "7",
   "metadata": {},
   "source": [
    "## 결측치 확인"
   ]
  },
  {
   "cell_type": "code",
   "execution_count": null,
   "id": "8",
   "metadata": {},
   "outputs": [],
   "source": [
    "print(players.isna().sum(),'\\n')\n",
    "print(players_valuations.isna().sum())"
   ]
  },
  {
   "cell_type": "markdown",
   "id": "9",
   "metadata": {},
   "source": [
    "## 기초 통계량"
   ]
  },
  {
   "cell_type": "code",
   "execution_count": null,
   "id": "10",
   "metadata": {},
   "outputs": [],
   "source": [
    "# 특정 컬럼에 대해 unique 값 개수 출력 함수 정의\n",
    "def count_value(df, column):\n",
    "    count = len(df[column].unique())\n",
    "    print(f'Total {column}: {count}')\n",
    "\n",
    "columns = ['player_id', 'current_club_id', 'country_of_citizenship'] # player_id, 소속 구단, 국적에 대한 unique 개수 확인\n",
    "\n",
    "for column in columns:\n",
    "    count_value(players, column)"
   ]
  },
  {
   "cell_type": "code",
   "execution_count": null,
   "id": "11",
   "metadata": {},
   "outputs": [],
   "source": [
    "# 선수 시장가치(market_value_in_eur)의 기초 통계량\n",
    "players_valuations['market_value_in_eur'].describe()"
   ]
  },
  {
   "cell_type": "code",
   "execution_count": null,
   "id": "12",
   "metadata": {},
   "outputs": [],
   "source": [
    "pd.options.display.float_format = '{:.0f}'.format\n",
    "players_valuations['market_value_in_eur'].describe()"
   ]
  },
  {
   "cell_type": "code",
   "execution_count": null,
   "id": "13",
   "metadata": {},
   "outputs": [],
   "source": [
    "# 평균 시장가치 이상인 선수 비율 계산\n",
    "mean_ = players_valuations['market_value_in_eur'].mean()\n",
    "over_mean = len(players_valuations[players_valuations['market_value_in_eur'] > mean_])\n",
    "total = len(players_valuations)\n",
    "print(f\"percentile of player over mean value: {over_mean/total*100:.2f}%\")"
   ]
  },
  {
   "cell_type": "markdown",
   "id": "14",
   "metadata": {},
   "source": [
    "# 3. Handling DataFrame"
   ]
  },
  {
   "cell_type": "code",
   "execution_count": null,
   "id": "15",
   "metadata": {},
   "outputs": [],
   "source": [
    "players_with_val = pd.merge(players, players_valuations, on='player_id')\n",
    "players_with_val[players_with_val['last_name']=='Son'].tail()"
   ]
  },
  {
   "cell_type": "markdown",
   "id": "16",
   "metadata": {},
   "source": [
    "## 3-1. 태어난 년도 기준으로 각 연봉을 받았던 때의 나이 계산하여 age 컬럼 추가"
   ]
  },
  {
   "cell_type": "code",
   "execution_count": null,
   "id": "17",
   "metadata": {},
   "outputs": [],
   "source": [
    "# \"YYYY-MM-DD” 형식의 date에서 연도만 뽑아내서 dateyear 컬럼 추가\n",
    "players_with_val['dateyear'] = players_with_val['date'].apply(lambda x: int(str(x)[:4]) if pd.notna(x) else None)\n",
    "players_with_val['age'] = players_with_val['dateyear'] - players_with_val['date_of_birth'].apply(\n",
    "    lambda x: int(str(x)[:4]) if pd.notna(x) else None\n",
    ")"
   ]
  },
  {
   "cell_type": "code",
   "execution_count": null,
   "id": "18",
   "metadata": {},
   "outputs": [],
   "source": [
    "# 선수별 동일 연도 데이터 중복 제거 → 가장 마지막 기록만 남김\n",
    "players_with_val.drop_duplicates(['player_id','dateyear'], keep='last',inplace=True)\n",
    "players_with_val[players_with_val['last_name']=='Son'].head()"
   ]
  },
  {
   "cell_type": "code",
   "execution_count": null,
   "id": "19",
   "metadata": {},
   "outputs": [],
   "source": [
    "# 분석에 필요한 컬럼만 선별\n",
    "columns = [\n",
    "    'player_id', 'current_club_id_y', 'first_name', 'last_name', 'name', 'last_season_x', 'country_of_citizenship', 'city_of_birth', 'position', 'sub_position', 'dateyear', 'age', 'market_value_in_eur_y']\n",
    "players_with_val = players_with_val[columns]\n",
    "\n",
    "players_with_val.rename(\n",
    "    columns={\n",
    "    \"current_club_id_y\": \"current_club_id\",\n",
    "    \"last_season_x\": \"last_season\",\n",
    "    \"market_value_in_eur_y\":\"market_value_in_eur\"\n",
    "    },\n",
    "    inplace=True\n",
    ")\n",
    "\n",
    "players_with_val"
   ]
  },
  {
   "cell_type": "code",
   "execution_count": null,
   "id": "20",
   "metadata": {},
   "outputs": [],
   "source": [
    "players_with_val['market_value_in_eur'].describe()"
   ]
  },
  {
   "cell_type": "markdown",
   "id": "21",
   "metadata": {},
   "source": []
  },
  {
   "cell_type": "code",
   "execution_count": null,
   "id": "22",
   "metadata": {},
   "outputs": [],
   "source": [
    "# 2022년 기준 데이터만 추출\n",
    "players_with_val_2022 = players_with_val[(players_with_val['dateyear'] == 2022) & (players_with_val['last_season'] == 2022)]\n",
    "players_with_val_2022"
   ]
  },
  {
   "cell_type": "code",
   "execution_count": null,
   "id": "23",
   "metadata": {},
   "outputs": [],
   "source": [
    "# 2022년 선수별 market_value 순위 계산\n",
    "players_with_val_2022['market_value_rank'] = players_with_val_2022['market_value_in_eur'].rank(method=\"min\", ascending=False)\n",
    "\n",
    "# market_value 기준 정렬 후 손흥민 선수 확인\n",
    "players_with_val_2022.sort_values(by='market_value_rank')\n",
    "players_with_val_2022[players_with_val_2022['last_name'] == 'Son']"
   ]
  },
  {
   "cell_type": "markdown",
   "id": "24",
   "metadata": {},
   "source": [
    "# 4. Visaulization"
   ]
  },
  {
   "cell_type": "code",
   "execution_count": null,
   "id": "25",
   "metadata": {},
   "outputs": [],
   "source": [
    "import matplotlib.pyplot as plt\n",
    "import matplotlib as mpl\n",
    "\n",
    "# 한글 폰트 설정\n",
    "mpl.rc('font', family='AppleGothic')\n",
    "# 음수 기호 깨짐 방지\n",
    "mpl.rcParams['axes.unicode_minus'] = False"
   ]
  },
  {
   "cell_type": "markdown",
   "id": "26",
   "metadata": {},
   "source": [
    "## 4-1. 연도별 선수가치 분포도"
   ]
  },
  {
   "cell_type": "code",
   "execution_count": null,
   "id": "27",
   "metadata": {},
   "outputs": [],
   "source": [
    "import matplotlib.pyplot as plt\n",
    "\n",
    "\n",
    "plt.figure(figsize=(8,6))\n",
    "plt.boxplot(players_with_val['market_value_in_eur'])\n",
    "plt.title('선수들의 시장가치 분포도')\n",
    "plt.show()"
   ]
  },
  {
   "cell_type": "markdown",
   "id": "28",
   "metadata": {},
   "source": [
    "대부분의 선수들의 시장가치는 낮은 구간에 몰려있고\n",
    "극소수의 스타 선수들만 박스플롯의 이상치로 표시되어있음을 볼 수 있다"
   ]
  },
  {
   "cell_type": "code",
   "execution_count": null,
   "id": "29",
   "metadata": {},
   "outputs": [],
   "source": [
    "# 선수 가치별로 그룹화하여 같은 시장가치를 가진 선수 수를 카운트\n",
    "plt.figure(figsize=(8,6))\n",
    "players_with_val.groupby('market_value_in_eur')['player_id'].count().plot()\n",
    "plt.title('가치별 선수 수 분포도')\n",
    "plt.show()"
   ]
  },
  {
   "cell_type": "markdown",
   "id": "30",
   "metadata": {},
   "source": [
    "* x축: market_value_in_eur (시장가치, 보통 유로 단위).\n",
    "*  같은 시장가치를 가진 선수 수.\n",
    "결과적으로 “특정 시장가치를 가진 선수가 몇 명 있는지”를 보여줌.\n",
    "\n",
    "**문제점**\n",
    "* 시장가치 데이터는 연속형(금액이 다양함)인데, 그대로 groupby 하면 x축에 값이 너무 많아 복잡하게 나옴.\n",
    "* 예: 시장가치가 500,000 유로, 510,000 유로, 520,000 유로… 이런 값들이 전부 개별 x축으로 들어감 → 해석 어려움."
   ]
  },
  {
   "cell_type": "code",
   "execution_count": null,
   "id": "31",
   "metadata": {},
   "outputs": [],
   "source": [
    "sum_per_year = players_with_val.groupby('dateyear')['market_value_in_eur'].sum()\n",
    "x = sum_per_year.index\n",
    "y = sum_per_year.values\n",
    "\n",
    "plt.figure(figsize=(8,6))\n",
    "plt.plot(x, y)\n",
    "plt.xticks(rotation=45)\n",
    "plt.title('연도별 전체 선수 시장가치 총합의 변화 추세')\n",
    "plt.show()"
   ]
  },
  {
   "cell_type": "code",
   "execution_count": null,
   "id": "32",
   "metadata": {},
   "outputs": [],
   "source": [
    "max_per_year = players_with_val.groupby('dateyear')['market_value_in_eur'].max()\n",
    "x = max_per_year.index\n",
    "y = max_per_year.values\n",
    "\n",
    "plt.figure(figsize=(8,6))\n",
    "plt.plot(x,y)\n",
    "plt.xticks(rotation=45)\n",
    "plt.title('연도별 선수가치 max 값의 변화 추세')\n",
    "plt.show()"
   ]
  },
  {
   "cell_type": "code",
   "execution_count": null,
   "id": "33",
   "metadata": {},
   "outputs": [],
   "source": [
    "mean_per_year = players_with_val.groupby('dateyear')['market_value_in_eur'].mean()\n",
    "x = mean_per_year.index\n",
    "y = mean_per_year.values\n",
    "\n",
    "plt.figure(figsize=(8,6))\n",
    "plt.plot(x, y)\n",
    "plt.xticks(rotation=45)\n",
    "plt.title('연도별 선수가치 평균값의 변화 추세')\n",
    "plt.show()"
   ]
  },
  {
   "cell_type": "code",
   "execution_count": null,
   "id": "34",
   "metadata": {},
   "outputs": [],
   "source": [
    "y = players_with_val.groupby('dateyear')['player_id'].count()\n",
    "\n",
    "plt.figure(figsize=(8,6))\n",
    "plt.bar(x, y)\n",
    "plt.xticks(rotation=45)\n",
    "plt.title('연도별 선수가치별 선수 수의 변화 추세')\n",
    "plt.show()"
   ]
  },
  {
   "cell_type": "code",
   "execution_count": null,
   "id": "35",
   "metadata": {},
   "outputs": [],
   "source": [
    "\n",
    "colors = ['blue' if count > 5000 else 'green' for count in y]\n",
    "\n",
    "plt.figure(figsize=(8,6))\n",
    "plt.bar(x, y, color=colors)\n",
    "plt.xticks(rotation=45)\n",
    "plt.title(\"연도별 선수 시장가치 총합\")\n",
    "plt.show()\n"
   ]
  },
  {
   "cell_type": "code",
   "execution_count": null,
   "id": "36",
   "metadata": {},
   "outputs": [],
   "source": [
    "players_with_val = players_with_val[(players_with_val['dateyear'] >= 2013) & (players_with_val['dateyear'] < 2023)]"
   ]
  },
  {
   "cell_type": "code",
   "execution_count": null,
   "id": "37",
   "metadata": {},
   "outputs": [],
   "source": [
    "years = sorted(players_with_val['dateyear'].unique())\n",
    "\n",
    "num_plots = len(years)\n",
    "num_rows = 4\n",
    "num_cols = (num_plots + 3) // 4\n",
    "\n",
    "fig, axes = plt.subplots(num_rows, num_cols, figsize=(12, 8))\n",
    "\n",
    "axes = axes.flatten()\n",
    "\n",
    "for i, year in enumerate(years):\n",
    "    market_values = players_with_val[players_with_val['dateyear'] == year]['market_value_in_eur'].values\n",
    "\n",
    "    ax = axes[i]\n",
    "    ax.boxplot(market_values)\n",
    "    ax.set_title(year)\n",
    "\n",
    "for j in range(num_plots, num_rows * num_cols):\n",
    "    fig.delaxes(axes[j])\n",
    "\n",
    "fig.suptitle(\"연도별 선수 시장가치 분포\", fontsize=16)\n",
    "\n",
    "plt.tight_layout()\n",
    "\n",
    "plt.show()"
   ]
  },
  {
   "cell_type": "markdown",
   "id": "38",
   "metadata": {},
   "source": [
    "## 4-2. 나이별 시장가치 분포도"
   ]
  },
  {
   "cell_type": "code",
   "execution_count": null,
   "id": "39",
   "metadata": {},
   "outputs": [],
   "source": [
    "players_with_val.info()"
   ]
  },
  {
   "cell_type": "code",
   "execution_count": null,
   "id": "40",
   "metadata": {},
   "outputs": [],
   "source": [
    "age_market_values = players_with_val.groupby('age')['market_value_in_eur'].mean()\n",
    "\n",
    "plt.figure(figsize=(8,6))\n",
    "age_market_values.plot(kind='bar')\n",
    "plt.xlabel('Age')\n",
    "plt.ylabel('Mean Market Value (EUR)')\n",
    "plt.xticks(rotation=0)\n",
    "plt.title('나이별 평균가치 분포도')\n",
    "plt.show()"
   ]
  },
  {
   "cell_type": "code",
   "execution_count": null,
   "id": "41",
   "metadata": {},
   "outputs": [],
   "source": [
    "filtered_data = players_with_val[players_with_val['age'] <= 35]\n",
    "\n",
    "age_market_values = filtered_data.groupby('age')['market_value_in_eur'].mean()\n",
    "\n",
    "sorted_values = age_market_values.sort_values(ascending=False)\n",
    "\n",
    "top_5_intervals = sorted_values.head(5).index\n",
    "\n",
    "colors = ['blue' if age in top_5_intervals else 'green' for age in age_market_values.index]\n",
    "\n",
    "plt.figure(figsize=(8, 6))\n",
    "age_market_values.plot(kind='bar', color=colors)\n",
    "plt.xlabel('Age')\n",
    "plt.ylabel('Mean Market Value (EUR)')\n",
    "plt.title('나이별 평균가치 분포(~35 세) 중 top 5 ')\n",
    "plt.xticks(rotation=45)\n",
    "plt.show()"
   ]
  },
  {
   "cell_type": "code",
   "execution_count": null,
   "id": "42",
   "metadata": {},
   "outputs": [],
   "source": [
    "\n",
    "import numpy as np\n",
    "\n",
    "def get_top_name(g):\n",
    "    if g['market_value_in_eur'].notna().any():\n",
    "        return g.loc[g['market_value_in_eur'].idxmax(), 'name']\n",
    "    return np.nan\n",
    "\n",
    "top_players = (\n",
    "    filtered_data\n",
    "    .groupby('age', group_keys=False)\n",
    "    .apply(get_top_name)\n",
    ")\n",
    "\n",
    "\n",
    "plt.figure(figsize=(12, 6))\n",
    "ax = age_market_values.plot(kind='bar', color=colors)\n",
    "ax.set_xlabel('Age')\n",
    "ax.set_ylabel('Mean Market Value (EUR)')\n",
    "ax.set_title('나이별 최고가 선수 (Up to 35)')\n",
    "\n",
    "for i, (age, value) in enumerate(zip(age_market_values.index, age_market_values.values)):\n",
    "    name = top_players.get(age, None)\n",
    "    if pd.notna(name):\n",
    "        ax.text(i, value * 1.01, name,\n",
    "                ha='center', va='bottom',\n",
    "                fontsize=9,\n",
    "                fontweight='bold' if age in sorted_values.head().index else 'normal',\n",
    "                rotation=0)\n",
    "\n",
    "plt.xticks(rotation=45)\n",
    "plt.tight_layout()\n",
    "plt.show()"
   ]
  },
  {
   "cell_type": "markdown",
   "id": "43",
   "metadata": {},
   "source": [
    "## 4-3. 포지셜별 가치 분포"
   ]
  },
  {
   "cell_type": "code",
   "execution_count": null,
   "id": "44",
   "metadata": {},
   "outputs": [],
   "source": [
    "position_market_values = players_with_val.groupby('position')['market_value_in_eur'].mean()\n",
    "\n",
    "plt.figure(figsize=(8,6))\n",
    "position_market_values.plot(kind='bar')\n",
    "plt.xlabel('Position')\n",
    "plt.ylabel('Mean Market Value (EUR)')\n",
    "plt.title('포지션별 평균 가치')\n",
    "plt.xticks(rotation=45)\n",
    "plt.show()\n"
   ]
  },
  {
   "cell_type": "code",
   "execution_count": null,
   "id": "45",
   "metadata": {},
   "outputs": [],
   "source": [
    "position_market_values = players_with_val.groupby(['position', 'dateyear'])['market_value_in_eur'].mean()\n",
    "\n",
    "position_market_values = position_market_values.reset_index()\n",
    "\n",
    "plt.figure(figsize=(12, 8))\n",
    "for position in position_market_values['position'].unique():\n",
    "    position_data = position_market_values[position_market_values['position'] == position]\n",
    "    plt.plot(position_data['dateyear'], position_data['market_value_in_eur'], label=position)\n",
    "\n",
    "plt.xlabel('Year')\n",
    "plt.ylabel('Mean Market Value (EUR)')\n",
    "plt.title('포지션별 평균 시장가치 추이 (연도별)')\n",
    "plt.legend()\n",
    "plt.xticks(rotation=45)\n",
    "plt.show()"
   ]
  },
  {
   "cell_type": "code",
   "execution_count": null,
   "id": "46",
   "metadata": {},
   "outputs": [],
   "source": [
    "positions = players_with_val['position'].unique()\n",
    "\n",
    "fig, axes = plt.subplots(len(positions), figsize=(10, 20))\n",
    "\n",
    "for i, position in enumerate(positions):\n",
    "    ax = axes[i]\n",
    "    ax.set_title(position)\n",
    "\n",
    "    position_data = players_with_val[players_with_val['position'] == position]\n",
    "    sub_positions = position_data['sub_position'].unique()\n",
    "\n",
    "    for sub_position in sub_positions:\n",
    "        sub_position_data = position_data[position_data['sub_position'] == sub_position]\n",
    "        sub_position_value = sub_position_data.groupby('dateyear')['market_value_in_eur'].mean()\n",
    "\n",
    "        ax.plot(sub_position_value.index, sub_position_value.values, label=sub_position)\n",
    "\n",
    "    ax.legend()\n",
    "\n",
    "plt.tight_layout()\n",
    "plt.show()\n"
   ]
  },
  {
   "cell_type": "code",
   "execution_count": null,
   "id": "47",
   "metadata": {},
   "outputs": [],
   "source": [
    "positions = players_with_val['position'].unique()\n",
    "\n",
    "fig, axes = plt.subplots(len(positions), figsize=(10, 20))\n",
    "\n",
    "for i, position in enumerate(positions):\n",
    "    ax = axes[i]\n",
    "    ax.set_title(position)\n",
    "\n",
    "    position_data = players_with_val[players_with_val['position'] == position]\n",
    "    sub_positions = position_data['sub_position'].unique()\n",
    "\n",
    "    for sub_position in sub_positions:\n",
    "        sub_position_data = position_data[position_data['sub_position'] == sub_position]\n",
    "        sub_position_value = sub_position_data.groupby('dateyear')['market_value_in_eur'].mean()\n",
    "\n",
    "        ax.plot(sub_position_value.index, sub_position_value.values, label=sub_position)\n",
    "\n",
    "        top_players = sub_position_data.loc[sub_position_data.groupby('dateyear')['market_value_in_eur'].idxmax(), 'name']\n",
    "\n",
    "        for year, player in zip(sub_position_value.index, top_players):\n",
    "            ax.text(year, sub_position_value[year], player, ha='center', va='bottom')\n",
    "\n",
    "    ax.legend()\n",
    "\n",
    "plt.tight_layout()\n",
    "plt.show()\n"
   ]
  },
  {
   "cell_type": "markdown",
   "id": "48",
   "metadata": {},
   "source": [
    "## 4-4. 국가별 가치 분포"
   ]
  },
  {
   "cell_type": "code",
   "execution_count": null,
   "id": "49",
   "metadata": {},
   "outputs": [],
   "source": [
    "country_player_counts = players_with_val.drop_duplicates('player_id')['country_of_citizenship'].value_counts()\n",
    "country_player_counts.sort_values(ascending=False)\n",
    "\n",
    "top_10_countries = country_player_counts.head(10)\n",
    "\n",
    "plt.figure(figsize=(12, 8))\n",
    "top_10_countries.plot(kind='bar')\n",
    "plt.xlabel('Country of Citizenship')\n",
    "plt.ylabel('Number of Players')\n",
    "plt.title('\tTop 10 국적별 선수 수 분포')\n",
    "\n",
    "for i, value in enumerate(top_10_countries):\n",
    "    country = top_10_countries.index[i]\n",
    "    plt.text(i, value, str(value), ha='center', va='bottom')\n",
    "\n",
    "plt.xticks(rotation=45)\n",
    "plt.show()"
   ]
  },
  {
   "cell_type": "code",
   "execution_count": null,
   "id": "50",
   "metadata": {},
   "outputs": [],
   "source": [
    "country_player_counts_2022 = players_with_val_2022.drop_duplicates('player_id')['country_of_citizenship'].value_counts()\n",
    "country_player_counts_2022.sort_values(ascending=False)\n",
    "\n",
    "top_10_countries = country_player_counts_2022.head(10)\n",
    "\n",
    "plt.figure(figsize=(12, 8))\n",
    "top_10_countries.plot(kind='bar')\n",
    "plt.xlabel('Country of Citizenship')\n",
    "plt.ylabel('Number of Players')\n",
    "plt.title('\tTop 10 국적별 선수 수 분포 - 2022')\n",
    "\n",
    "for i, value in enumerate(top_10_countries):\n",
    "    country = top_10_countries.index[i]\n",
    "    plt.text(i, value, str(value), ha='center', va='bottom')\n",
    "\n",
    "plt.xticks(rotation=45)\n",
    "plt.show()"
   ]
  },
  {
   "cell_type": "markdown",
   "id": "51",
   "metadata": {},
   "source": [
    "## 4-5. 국가별 선수 수 분포도"
   ]
  },
  {
   "cell_type": "code",
   "execution_count": null,
   "id": "52",
   "metadata": {},
   "outputs": [],
   "source": [
    "from geopy.geocoders import Nominatim\n",
    "import time\n",
    "\n",
    "locations = []\n",
    "\n",
    "errors = []\n",
    "\n",
    "geolocator = Nominatim(user_agent=\"my-app\")\n",
    "\n",
    "countries = country_player_counts.index\n",
    "\n",
    "for country in countries:\n",
    "    try:\n",
    "        location = geolocator.geocode(country)\n",
    "    except Exception as e:\n",
    "        print(f\"지오코딩 오류 - 나라: {country}. 오류: {e}\")\n",
    "        errors.append(country)\n",
    "        continue\n",
    "\n",
    "    time.sleep(0.3)\n",
    "    latitude = location.latitude\n",
    "    longitude = location.longitude\n",
    "\n",
    "    locations.append((country, latitude, longitude))\n",
    "    print(\"나라:\", country)\n",
    "    print(\"위도:\", latitude)\n",
    "    print(\"경도:\", longitude)\n",
    "    print(\"-\"*20)\n",
    "\n"
   ]
  },
  {
   "cell_type": "code",
   "execution_count": null,
   "id": "53",
   "metadata": {},
   "outputs": [],
   "source": [
    "locations_df_2022 = pd.DataFrame(locations)\n",
    "locations_df_2022.rename(columns={\n",
    "    0: 'country',\n",
    "    1: 'Latitude',\n",
    "    2: 'Longitude'\n",
    "}, inplace=True)\n",
    "\n",
    "locations_df_2022['player_count'] = locations_df_2022.country.apply(lambda x: country_player_counts_2022.get(x, 0))"
   ]
  },
  {
   "cell_type": "code",
   "execution_count": null,
   "id": "54",
   "metadata": {},
   "outputs": [],
   "source": [
    "import plotly.express as px\n",
    "\n",
    "\n",
    "fig = px.density_mapbox(\n",
    "    locations_df_2022,\n",
    "    lat=\"Latitude\",\n",
    "    lon=\"Longitude\",\n",
    "    z=\"player_count\",\n",
    "    radius=15,\n",
    "    center=dict(lat=20, lon=0),\n",
    "    zoom=1,\n",
    "    mapbox_style=\"open-street-map\"\n",
    ")\n",
    "\n",
    "fig.update_layout(\n",
    "    title=\"Density Map of 2022 Players\"\n",
    ")\n",
    "\n",
    "fig.show(renderer=\"browser\")"
   ]
  },
  {
   "cell_type": "code",
   "execution_count": null,
   "id": "55",
   "metadata": {},
   "outputs": [],
   "source": [
    "cities_in_england = players_with_val[players_with_val['country_of_citizenship'] == 'England'].drop_duplicates('player_id')['city_of_birth']\n",
    "print(f\"Number of City in Enlgand: {len(cities_in_england.unique())}\")\n",
    "\n",
    "england_players_count = cities_in_england.value_counts()\n",
    "\n",
    "top_10_city_in_england = england_players_count.head(10)\n",
    "\n",
    "plt.figure(figsize=(12, 8))\n",
    "top_10_city_in_england.plot(kind='bar')\n",
    "plt.xlabel('City of England')\n",
    "plt.ylabel('Number of Playesr')\n",
    "plt.title('영국 도시별 선수 수 분포')\n",
    "\n",
    "for i, value in enumerate(top_10_city_in_england):\n",
    "    city = top_10_city_in_england.index[i]\n",
    "    plt.text(i, value, str(value), ha='center', va='bottom')\n",
    "\n",
    "plt.xticks(rotation=45)\n",
    "plt.show()"
   ]
  },
  {
   "cell_type": "code",
   "execution_count": null,
   "id": "56",
   "metadata": {},
   "outputs": [],
   "source": [
    "top_50_city_in_england = england_players_count.head(50)\n",
    "\n",
    "enlgand_city_locations = []\n",
    "\n",
    "errors = []\n",
    "\n",
    "geolocator = Nominatim(user_agent=\"my-app\")\n",
    "\n",
    "cities = top_50_city_in_england.index\n",
    "\n",
    "for city in cities:\n",
    "    try:\n",
    "        location = geolocator.geocode(city)\n",
    "    except Exception as e:\n",
    "        print(f\"지오코딩 오류 - 나라: {city}. 오류: {e}\")\n",
    "        errors.append(city)\n",
    "        continue\n",
    "\n",
    "    time.sleep(0.3)\n",
    "    latitude = location.latitude\n",
    "    longitude = location.longitude\n",
    "\n",
    "    enlgand_city_locations.append((city, latitude, longitude))\n"
   ]
  },
  {
   "cell_type": "code",
   "execution_count": null,
   "id": "57",
   "metadata": {},
   "outputs": [],
   "source": [
    "england_locations_df = pd.DataFrame(enlgand_city_locations)\n",
    "england_locations_df.rename(columns={\n",
    "    0: 'city',\n",
    "    1: 'Latitude',\n",
    "    2: 'Longitude'\n",
    "}, inplace=True)\n",
    "\n",
    "england_locations_df['player_count'] = england_locations_df.city.apply(lambda x: england_players_count[x])\n",
    "england_locations_df.head()"
   ]
  },
  {
   "cell_type": "code",
   "execution_count": null,
   "id": "58",
   "metadata": {},
   "outputs": [],
   "source": [
    "import folium\n",
    "\n",
    "england_location = [55.8670, -4.2621]\n",
    "england_map = folium.Map(location=england_location, zoom_start=5)\n",
    "\n",
    "for index, row in england_locations_df.iterrows():\n",
    "    city = row['city']\n",
    "    latitude = row['Latitude']\n",
    "    longitude = row['Longitude']\n",
    "    player_count = row['player_count']\n",
    "\n",
    "    radius = player_count / 5\n",
    "    color = 'darkred' if player_count > 100 else 'red' if player_count > 50 else 'lightred'\n",
    "    folium.CircleMarker(\n",
    "        location=[latitude, longitude],\n",
    "        radius=radius,\n",
    "        color=color,\n",
    "        fill=True,\n",
    "        fill_color=color,\n",
    "        fill_opacity=0.6,\n",
    "        tooltip=f\"<b>{city}</b><br>Player Count: {player_count}\"\n",
    "    ).add_to(england_map)\n",
    "\n",
    "england_map"
   ]
  },
  {
   "cell_type": "code",
   "execution_count": null,
   "id": "59",
   "metadata": {},
   "outputs": [],
   "source": [
    "df_for_animation = pd.DataFrame(\n",
    "    players_with_val[players_with_val['country_of_citizenship'] == 'England']\n",
    "    .groupby(['dateyear', 'city_of_birth'])['player_id']\n",
    "    .count()\n",
    "    )\n",
    "\n",
    "df_for_animation.reset_index(inplace=True)\n",
    "df_for_animation.rename(\n",
    "    columns={\n",
    "        'city_of_birth': 'city',\n",
    "        'player_id': 'player_count'\n",
    "        },\n",
    "    inplace=True\n",
    "    )\n",
    "\n",
    "df_for_animation = pd.merge(\n",
    "    df_for_animation, england_locations_df[['city', 'Latitude', 'Longitude']],\n",
    "    on='city', how='left')\n",
    "\n",
    "df_for_animation.dropna(inplace=True)\n",
    "df_for_animation"
   ]
  },
  {
   "cell_type": "code",
   "execution_count": null,
   "id": "60",
   "metadata": {},
   "outputs": [],
   "source": [
    "import plotly.express as px\n",
    "\n",
    "fig = px.scatter_geo(\n",
    "    df_for_animation, lat=\"Latitude\", lon=\"Longitude\",\n",
    "    color=\"player_count\", size=\"player_count\", hover_name=\"city\",\n",
    "    animation_frame=\"dateyear\", projection=\"natural earth\"\n",
    ")\n",
    "\n",
    "fig.update_geos(\n",
    "    projection_scale=3.5,\n",
    "    scope=\"europe\",\n",
    "    center=dict(lat=55.8670, lon=-4.2621),\n",
    ")\n",
    "\n",
    "fig.update_layout(\n",
    "    title=\"England Football Player Count by City Over Years\",\n",
    "    height=600, width=800,\n",
    ")\n",
    "\n",
    "fig.show(renderer=\"browser\")"
   ]
  },
  {
   "cell_type": "markdown",
   "id": "61",
   "metadata": {},
   "source": [
    "## 4-5. 클럽 단위 총 가치"
   ]
  },
  {
   "cell_type": "code",
   "execution_count": null,
   "id": "62",
   "metadata": {},
   "outputs": [],
   "source": [
    "\n",
    "clubs_path = '../data/clubs.csv'\n",
    "competitions_path = '../data/competitions.csv'\n",
    "\n",
    "clubs = pd.read_csv(clubs_path)\n",
    "competitions = pd.read_csv(competitions_path)\n",
    "\n",
    "print(clubs.head())\n",
    "print(competitions.head())\n"
   ]
  },
  {
   "cell_type": "code",
   "execution_count": null,
   "id": "63",
   "metadata": {},
   "outputs": [],
   "source": [
    "clubs.info()"
   ]
  },
  {
   "cell_type": "code",
   "execution_count": null,
   "id": "64",
   "metadata": {},
   "outputs": [],
   "source": [
    "clubs_2022 = clubs[clubs['last_season'] == 2022]"
   ]
  },
  {
   "cell_type": "code",
   "execution_count": null,
   "id": "65",
   "metadata": {},
   "outputs": [],
   "source": [
    "total_market_values = players_with_val_2022.groupby('current_club_id')['market_value_in_eur'].sum()\n",
    "\n",
    "clubs_2022['total_market_value'] = clubs_2022['club_id'].apply(lambda club_id: total_market_values[club_id])\n",
    "clubs_2022"
   ]
  },
  {
   "cell_type": "code",
   "execution_count": null,
   "id": "66",
   "metadata": {},
   "outputs": [],
   "source": [
    "columns = ['competition_id', 'name', 'country_name']\n",
    "competitions = competitions[columns].rename(columns={'competition_id': 'domestic_competition_id'})"
   ]
  },
  {
   "cell_type": "code",
   "execution_count": null,
   "id": "67",
   "metadata": {},
   "outputs": [],
   "source": [
    "clubs_2022 = pd.merge(clubs_2022, competitions, on='domestic_competition_id')\n",
    "\n",
    "display(clubs_2022.head())\n",
    "print(clubs_2022.info())"
   ]
  },
  {
   "cell_type": "code",
   "execution_count": null,
   "id": "68",
   "metadata": {},
   "outputs": [],
   "source": [
    "columns = ['club_id', 'club_code', 'name_x', 'total_market_value', 'squad_size', 'average_age', 'foreigners_number', 'foreigners_percentage', 'name_y', 'country_name']\n",
    "\n",
    "clubs_2022 = clubs_2022[columns]\n",
    "clubs_2022.rename(columns={\n",
    "    \"name_x\": \"club_name\",\n",
    "    \"name_y\": \"competition_name\"\n",
    "}, inplace=True)\n",
    "\n",
    "clubs_2022"
   ]
  },
  {
   "cell_type": "code",
   "execution_count": null,
   "id": "69",
   "metadata": {},
   "outputs": [],
   "source": [
    "clubs_2022"
   ]
  },
  {
   "cell_type": "code",
   "execution_count": null,
   "id": "70",
   "metadata": {},
   "outputs": [],
   "source": [
    "import pandas as pd, plotly\n",
    "print(pd.__version__, plotly.__version__)"
   ]
  },
  {
   "cell_type": "code",
   "execution_count": null,
   "id": "71",
   "metadata": {},
   "outputs": [],
   "source": [
    "import plotly.express as px\n",
    "\n",
    "sorted_clubs_2022 = clubs_2022.sort_values('total_market_value', ascending=False)\n",
    "\n",
    "fig = px.treemap(\n",
    "    sorted_clubs_2022,\n",
    "    path=['club_name'],  # 'name'이 club_name임\n",
    "    values='total_market_value',\n",
    "    labels={'club_name': 'Club Name', 'total_market_value': 'Total Market Value'},\n",
    "    title='Clubs in 2022 by Total Market Value'\n",
    ")\n",
    "fig.show()\n"
   ]
  },
  {
   "cell_type": "code",
   "execution_count": null,
   "id": "72",
   "metadata": {},
   "outputs": [],
   "source": [
    "sorted_clubs_2022 = clubs_2022.sort_values('total_market_value', ascending=False)\n",
    "\n",
    "fig = px.treemap(sorted_clubs_2022, path=['country_name', 'club_name'], values='total_market_value',\n",
    "                 labels={'club_name': 'Club Name', 'total_market_value': 'Total Market Value'},\n",
    "                 title='Clubs in 2022 by Total Market Value')\n",
    "fig.show(renderer=\"browser\")"
   ]
  },
  {
   "cell_type": "code",
   "execution_count": null,
   "id": "73",
   "metadata": {},
   "outputs": [],
   "source": [
    "fig = px.bar(sorted_clubs_2022, x='club_name', y='total_market_value', color='country_name',\n",
    "             labels={'club_name': 'Club Name', 'total_market_value': 'Total Market Value'},\n",
    "             title='Clubs in 2022 by Total Market Value')\n",
    "fig.show(renderer=\"browser\")"
   ]
  },
  {
   "cell_type": "code",
   "execution_count": null,
   "id": "74",
   "metadata": {},
   "outputs": [],
   "source": [
    "fig = px.box(clubs_2022, x='competition_name', y='total_market_value', color='competition_name',\n",
    "             title='Market Value Distribution by Competition(Domestic League)',\n",
    "             labels={'competition_name': 'Competition', 'total_market_value': 'Total Market Value'})\n",
    "fig.show(renderer=\"browser\")"
   ]
  },
  {
   "cell_type": "code",
   "execution_count": null,
   "id": "75",
   "metadata": {},
   "outputs": [],
   "source": [
    "fig = px.box(clubs_2022, x='competition_name', y='average_age', color='competition_name',\n",
    "             title='Age Distribution by Competition(Domestic League)',\n",
    "             labels={'competition_name': 'Competition', 'average_age': 'Average Age'})\n",
    "fig.show(renderer=\"browser\")"
   ]
  },
  {
   "cell_type": "markdown",
   "id": "76",
   "metadata": {},
   "source": [
    "## 5. Data Scrapping"
   ]
  },
  {
   "cell_type": "markdown",
   "id": "77",
   "metadata": {},
   "source": [
    "## 5-1. 리그/대회 이름 별 그룹핑"
   ]
  },
  {
   "cell_type": "code",
   "execution_count": null,
   "id": "78",
   "metadata": {},
   "outputs": [],
   "source": [
    "# 리그(competition_name)별로 클럽들의 total_market_value 합계를 구함\n",
    "top_5_competition = clubs_2022.groupby('competition_name')['total_market_value'].sum()\n",
    "\n",
    "# 합계 기준 내림차순 정렬 후 상위 5개 리그만 추출 → 리그 이름만(Index 형태로) 가져옴\n",
    "top_5_competition = top_5_competition.sort_values(ascending=False).head(5).index\n",
    "\n",
    "# clubs_2022에서 'competition_name'이 상위 5개 리그에 속하는 클럽들만 필터링\n",
    "# 해당 클럽들의 'club_id'만 뽑아서 unique()로 중복 제거\n",
    "club_ids = clubs_2022[clubs_2022['competition_name'].isin(top_5_competition)]['club_id'].unique()\n",
    "\n",
    "# 결과: 상위 5개 리그에 속하는 클럽들의 고유한 club_id 리스트\n",
    "club_ids"
   ]
  },
  {
   "cell_type": "markdown",
   "id": "79",
   "metadata": {},
   "source": [
    "## 5-2. 상위 5개 리그 소속의 골키퍼 제외한 모든 선수들 포지션,리그명"
   ]
  },
  {
   "cell_type": "code",
   "execution_count": null,
   "id": "80",
   "metadata": {},
   "outputs": [],
   "source": [
    "# 분석에 필요한 컬럼만 선택\n",
    "columns = ['player_id', 'current_club_id', 'first_name', 'last_name',\n",
    "           'name', 'position', 'sub_position', 'age', 'market_value_in_eur']\n",
    "\n",
    "# 1) 상위 5개 리그(club_ids에 속한 클럽) 선수만 필터링 → 지정된 컬럼만 추출\n",
    "players_with_stats = players_with_val_2022[players_with_val_2022['current_club_id'].isin(club_ids)][columns]\n",
    "\n",
    "# 2) 포지션이 'Goalkeeper'인 선수 제외\n",
    "players_with_stats = players_with_stats[players_with_stats['position'] != 'Goalkeeper']\n",
    "\n",
    "# 3) 클럽 ID → 클럽 이름 매핑 (clubs_2022에서 club_id와 club_name 매칭)\n",
    "players_with_stats['current_club_name'] = players_with_stats['current_club_id'].map(\n",
    "    clubs_2022.set_index('club_id')['club_name']\n",
    ")\n",
    "\n",
    "# 4) 클럽 ID → 소속 리그 이름 매핑 (clubs_2022에서 club_id와 competition_name 매칭)\n",
    "players_with_stats['competition_name'] = players_with_stats['current_club_id'].map(\n",
    "    clubs_2022.set_index('club_id')['competition_name']\n",
    ")\n",
    "\n",
    "# 5) 시장가치(market_value_in_eur)를 기준으로 내림차순 정렬 (가장 비싼 선수부터 위에 오도록)\n",
    "players_with_stats = players_with_stats.sort_values(by='market_value_in_eur', ascending=False)\n",
    "\n",
    "# 최종 DataFrame: 상위 5개 리그 소속의 골키퍼 제외한 모든 선수들의 스탯 + 클럽/리그 이름\n",
    "players_with_stats"
   ]
  },
  {
   "cell_type": "code",
   "execution_count": null,
   "id": "81",
   "metadata": {},
   "outputs": [],
   "source": [
    "attack_df = players_with_stats[players_with_stats['position'] == 'Attack'].reset_index(drop=True)\n",
    "display(attack_df.head())\n",
    "\n",
    "midfield_df = players_with_stats[players_with_stats['position'] == 'Midfield'].reset_index(drop=True)\n",
    "display(midfield_df.head())\n",
    "\n",
    "defender_df = players_with_stats[players_with_stats['position'] == 'Defender'].reset_index(drop=True)\n",
    "display(defender_df.head())"
   ]
  },
  {
   "cell_type": "code",
   "execution_count": null,
   "id": "82",
   "metadata": {},
   "outputs": [],
   "source": [
    "from selenium import webdriver\n",
    "from selenium.webdriver.common.by import By\n",
    "\n",
    "from bs4 import BeautifulSoup\n",
    "\n",
    "import time"
   ]
  },
  {
   "cell_type": "code",
   "execution_count": null,
   "id": "83",
   "metadata": {},
   "outputs": [],
   "source": [
    "urls = [\n",
    "    \"https://1xbet.whoscored.com/Regions/74/Tournaments/22/Seasons/9129/Stages/21037/PlayerStatistics/France-Ligue-1-2022-2023\",\n",
    "    \"https://1xbet.whoscored.com/Regions/252/Tournaments/2/Seasons/9075/Stages/20934/PlayerStatistics/England-Premier-League-2022-2023\",\n",
    "    \"https://1xbet.whoscored.com/Regions/81/Tournaments/3/Seasons/9120/Stages/21026/PlayerStatistics/Germany-Bundesliga-2022-2023\",\n",
    "    \"https://1xbet.whoscored.com/Regions/206/Tournaments/4/Seasons/9149/Stages/21073/PlayerStatistics/Spain-LaLiga-2022-2023\",\n",
    "    \"https://1xbet.whoscored.com/Regions/108/Tournaments/5/Seasons/9159/Stages/21087/PlayerStatistics/Italy-Serie-A-2022-2023\",\n",
    "]"
   ]
  },
  {
   "cell_type": "code",
   "execution_count": null,
   "id": "84",
   "metadata": {},
   "outputs": [],
   "source": [
    "position_df_dict = {\n",
    "    \"Offensive\": attack_df,\n",
    "    \"Passing\": midfield_df,\n",
    "    \"Defensive\": defender_df\n",
    "}"
   ]
  },
  {
   "cell_type": "markdown",
   "id": "85",
   "metadata": {},
   "source": [
    "크롬 브라우저를 자동으로 켜는 WebDriver 생성하여 urls 페이지들 열어 전체 선수보이는 페이지 띄우기"
   ]
  },
  {
   "cell_type": "code",
   "execution_count": null,
   "id": "86",
   "metadata": {},
   "outputs": [],
   "source": [
    "driver = webdriver.Chrome()\n",
    "\n",
    "url = urls[0]\n",
    "driver.get(url)\n",
    "\n",
    "driver.maximize_window()\n",
    "\n",
    "driver.execute_script(\"window.scrollTo(0,700)\")\n",
    "\n",
    "apps = driver.find_elements(By.ID, 'apps')[-1]\n",
    "all_players = apps.find_elements(By.CLASS_NAME, 'option')[-1]\n",
    "all_players.click()"
   ]
  },
  {
   "cell_type": "code",
   "execution_count": null,
   "id": "87",
   "metadata": {},
   "outputs": [],
   "source": [
    "# 크롤링하려는 페이지 -> 전체 페이지 수(totalPages)\n",
    "total_pages = int(driver.find_elements(By.ID, \"totalPages\")[-1].get_attribute('value'))\n",
    "total_pages"
   ]
  },
  {
   "cell_type": "code",
   "execution_count": null,
   "id": "88",
   "metadata": {},
   "outputs": [],
   "source": [
    "html = driver.page_source # 현재 크롬 드라이버(driver)가 띄운 웹페이지의 HTML 원본을 가져옴\n",
    "soup = BeautifulSoup(html, 'html.parser') # HTML을 다루기 쉽게 객체 구조로 바꿈\n",
    "table = soup.findAll('table') # 페이지 안에 있는 <table> 태그들을 전부 찾아 리스트로 반환\n",
    "stats_table = pd.read_html(str(table[1]))[0].iloc[:,1:] # 첫 번째 컬럼을 제외하고 나머지 열만 선택 -> 첫 열은 인덱스/번호라서 버림\n",
    "stats_table"
   ]
  },
  {
   "cell_type": "markdown",
   "id": "89",
   "metadata": {},
   "source": [
    "## 5-3. 웹에서 긁어온 스탯 테이블을 defender_df 선수 데이터프레임에 매핑"
   ]
  },
  {
   "cell_type": "code",
   "execution_count": null,
   "id": "90",
   "metadata": {},
   "outputs": [],
   "source": [
    "stats_table"
   ]
  },
  {
   "cell_type": "code",
   "execution_count": null,
   "id": "91",
   "metadata": {},
   "outputs": [],
   "source": [
    "# stats_table에서 선수 이름을 추출 → defender_df와 매칭 → 스탯 값 채워 넣기 → 다음 페이지로 이동\n",
    "player_names = defender_df['name'].unique()\n",
    "\n",
    "for idx, row in stats_table.iterrows():\n",
    "    player_info = row['Player.1'].split(' ')\n",
    "    player_name = ' '.join(player_info[:2])\n",
    "    if player_name in player_names:\n",
    "        print(player_name)\n",
    "        player_row = defender_df[defender_df['name'] == player_name].iloc[0]\n",
    "        defender_df.loc[player_row.name, stats_table.columns[1:]] = row[1:]"
   ]
  },
  {
   "cell_type": "code",
   "execution_count": null,
   "id": "92",
   "metadata": {},
   "outputs": [],
   "source": [
    "next_button = driver.find_elements(By.ID, \"next\")\n",
    "next_button[-1].click()"
   ]
  },
  {
   "cell_type": "code",
   "execution_count": null,
   "id": "93",
   "metadata": {},
   "outputs": [],
   "source": [
    "driver.quit()"
   ]
  },
  {
   "cell_type": "markdown",
   "id": "94",
   "metadata": {},
   "source": [
    " 각 URL 팀 페이지를 열고 → 포지션(3개)을 순서대로 클릭 → “All players”로 바꾼 뒤 → 페이지네이션을 돌며 표를 읽어와 → 내 position_df_dict(Attack/Midfield/Defender 등)에 스탯을 채워 넣기"
   ]
  },
  {
   "cell_type": "code",
   "execution_count": null,
   "id": "95",
   "metadata": {},
   "outputs": [],
   "source": [
    "# \tURL 하나당 드라이버를 새로 띄우고 끝에 quit()로 닫아주는 구조\n",
    "for url in urls:\n",
    "    driver = webdriver.Chrome()\n",
    "\n",
    "    driver.get(url)\n",
    "\n",
    "    driver.maximize_window()\n",
    "\n",
    "    driver.execute_script(\"window.scrollTo(0,700)\")\n",
    "# 상세 스쿼드 보기” 버튼들 중 마지막 하나는 제외하고 0,1,2(=3개 포지션)을 순회 클릭 후 1.5초 하드 슬립으로 로딩 대기\n",
    "    for i in range(3):\n",
    "        positions = driver.find_elements(By.CLASS_NAME, \"in-squad-detailed-view\")[:-1]\n",
    "        position = positions[i]\n",
    "        position.click()\n",
    "        time.sleep(1.5)\n",
    "\n",
    "        key = position.text.strip()\n",
    "        df = position_df_dict[key]\n",
    "        player_names = df['name'].unique()\n",
    "\n",
    "        # id=apps(드롭다운)에서 마지막 옵션(보통 “All players”) 클릭 → 전체 선수 보기로 전환.\n",
    "        apps = driver.find_elements(By.ID, 'apps')[-1]\n",
    "        all_players = apps.find_elements(By.CLASS_NAME, 'option')[-1]\n",
    "        all_players.click()\n",
    "        time.sleep(1.5)\n",
    "\n",
    "        # 전체 페이지 수(totalPages)만큼 루프.\n",
    "        total_pages = int(driver.find_elements(By.ID, \"totalPages\")[-1].get_attribute('value'))\n",
    "        for _ in range(total_pages):\n",
    "            html = driver.page_source\n",
    "            soup = BeautifulSoup(html, 'html.parser')\n",
    "\n",
    "            tables = soup.findAll('table')[:-1]\n",
    "            table = str(tables[-1])\n",
    "            stats_table = pd.read_html(table)[0].iloc[:,1:]\n",
    "\n",
    "            for idx, row in stats_table.iterrows():\n",
    "                player_info = row['Player.1'].split(' ')\n",
    "                player_name = ' '.join(player_info[:2])\n",
    "\n",
    "                if player_name in player_names:\n",
    "                    player_row = df[df['name'] == player_name].iloc[0]\n",
    "                    df.loc[player_row.name, stats_table.columns[1:]] = row[1:]\n",
    "\n",
    "            next_button = driver.find_elements(By.ID, \"next\")\n",
    "            next_button[-1].click()\n",
    "            time.sleep(1.5)\n",
    "\n",
    "    driver.quit()\n",
    "    time.sleep(2)"
   ]
  },
  {
   "cell_type": "code",
   "execution_count": null,
   "id": "96",
   "metadata": {},
   "outputs": [],
   "source": [
    "attack_df_with_stats = position_df_dict['Offensive']\n",
    "midfield_df_with_stats = position_df_dict['Passing']\n",
    "defender_df_with_stats = position_df_dict['Defensive']\n",
    "\n",
    "display(attack_df_with_stats)\n",
    "display(midfield_df_with_stats)\n",
    "display(defender_df_with_stats)"
   ]
  },
  {
   "cell_type": "code",
   "execution_count": null,
   "id": "97",
   "metadata": {},
   "outputs": [],
   "source": [
    "attack_df_with_stats_isna = attack_df_with_stats.isna().sum() / len(attack_df_with_stats) * 100\n",
    "midfield_df_with_stats_isna = midfield_df_with_stats.isna().sum() / len(midfield_df_with_stats) * 100\n",
    "defender_df_with_stats_isna = defender_df_with_stats.isna().sum() / len(defender_df_with_stats) * 100\n",
    "\n",
    "print(\"Attack DataFrame NaN Ratio:\")\n",
    "print(attack_df_with_stats_isna)\n",
    "\n",
    "print(\"\\nMidfield DataFrame NaN Ratio:\")\n",
    "print(midfield_df_with_stats_isna)\n",
    "\n",
    "print(\"\\nDefender DataFrame NaN Ratio:\")\n",
    "print(defender_df_with_stats_isna)"
   ]
  },
  {
   "cell_type": "code",
   "execution_count": null,
   "id": "98",
   "metadata": {},
   "outputs": [],
   "source": [
    "attack_df_with_stats.dropna(inplace=True)\n",
    "midfield_df_with_stats.dropna(inplace=True)\n",
    "defender_df_with_stats.dropna(inplace=True)"
   ]
  },
  {
   "cell_type": "code",
   "execution_count": null,
   "id": "99",
   "metadata": {},
   "outputs": [],
   "source": [
    "display(attack_df_with_stats\n",
    "display(midfield_df_with_stats)\n",
    "display(defender_df_with_stats)"
   ]
  }
 ],
 "metadata": {
  "kernelspec": {
   "display_name": "Python 3",
   "language": "python",
   "name": "python3"
  },
  "language_info": {
   "codemirror_mode": {
    "name": "ipython",
    "version": 2
   },
   "file_extension": ".py",
   "mimetype": "text/x-python",
   "name": "python",
   "nbconvert_exporter": "python",
   "pygments_lexer": "ipython2",
   "version": "2.7.6"
  }
 },
 "nbformat": 4,
 "nbformat_minor": 5
}
